{
 "cells": [
  {
   "cell_type": "code",
   "execution_count": 1,
   "id": "2f1111d3-31be-4411-93bc-f1ef80f34d9d",
   "metadata": {},
   "outputs": [],
   "source": [
    "import pathlib\n",
    "import numpy as np\n",
    "import networkx as nx"
   ]
  },
  {
   "cell_type": "markdown",
   "id": "712c4c8e-3473-4c7b-a489-c2696234c23e",
   "metadata": {},
   "source": [
    "### Computing overall similarity with different weights & thresholds"
   ]
  },
  {
   "cell_type": "code",
   "execution_count": 2,
   "id": "ed3a94fc-0971-47ea-8eec-4f6ead7e548e",
   "metadata": {},
   "outputs": [
    {
     "name": "stdout",
     "output_type": "stream",
     "text": [
      "CPU times: user 3.26 s, sys: 67.8 ms, total: 3.32 s\n",
      "Wall time: 3.43 s\n"
     ]
    }
   ],
   "source": [
    "%%time\n",
    "\n",
    "def get_overall_sim(alpha, linker_sim_arr, mof_sim_arr):\n",
    "    return alpha*linker_sim_arr + (1-alpha)*mof_sim_arr\n",
    "\n",
    "def apply_threshold(omega, adj_arr):\n",
    "    indices = np.argwhere(adj_arr < omega)\n",
    "    for index in indices:\n",
    "        adj_arr[*index] = 0.0\n",
    "    np.fill_diagonal(adj_arr, 0.0)\n",
    "    return adj_arr\n",
    "\n",
    "def get_edge_dataframe(adj_arr):\n",
    "    G = nx.from_numpy_array(adj_arr, create_using=nx.DiGraph)\n",
    "    edge_pd = nx.to_pandas_edgelist(G)\n",
    "    return edge_pd\n",
    "\n",
    "def main(alpha, omega):\n",
    "    parent_data_path = pathlib.Path(\"__file__\").parent.resolve()\n",
    "    linker_sim_path = parent_data_path.joinpath(\"similarity/linkers_similarity.npy\")\n",
    "    mof_sim_path = parent_data_path.joinpath(\"similarity/mof_features_similarity.npy\")\n",
    "    \n",
    "    linker_sim_arr = np.load(linker_sim_path)\n",
    "    mof_sim_arr = np.load(mof_sim_path)\n",
    "\n",
    "    adj_arr = get_overall_sim(alpha, linker_sim_arr, mof_sim_arr)\n",
    "    adj_arr = apply_threshold(omega, adj_arr)\n",
    "    edge_pd = get_edge_dataframe(adj_arr)\n",
    "    return edge_pd\n",
    "\n",
    "edge_pd = main(alpha=0.9, omega=0.9)\n",
    "parent_data_path = pathlib.Path(\"__file__\").parent.resolve()\n",
    "edge_pd.to_csv(parent_data_path.joinpath(f\"EdgesList_1988_0.9_alpha_0.9_omega.csv\"), index=False)"
   ]
  }
 ],
 "metadata": {
  "kernelspec": {
   "display_name": "Python [conda env:mof-galaxy]",
   "language": "python",
   "name": "conda-env-mof-galaxy-py"
  },
  "language_info": {
   "codemirror_mode": {
    "name": "ipython",
    "version": 3
   },
   "file_extension": ".py",
   "mimetype": "text/x-python",
   "name": "python",
   "nbconvert_exporter": "python",
   "pygments_lexer": "ipython3",
   "version": "3.11.6"
  }
 },
 "nbformat": 4,
 "nbformat_minor": 5
}
